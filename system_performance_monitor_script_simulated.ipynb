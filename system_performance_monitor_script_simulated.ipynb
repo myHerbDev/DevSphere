{
  "cells": [
    {
      "cell_type": "markdown",
      "metadata": {
        "id": "view-in-github",
        "colab_type": "text"
      },
      "source": [
        "<a href=\"https://colab.research.google.com/github/myHerbDev/DevSphere/blob/main/system_performance_monitor_script_simulated.ipynb\" target=\"_parent\"><img src=\"https://colab.research.google.com/assets/colab-badge.svg\" alt=\"Open In Colab\"/></a>"
      ]
    },
    {
      "cell_type": "code",
      "execution_count": null,
      "metadata": {
        "colab": {
          "base_uri": "https://localhost:8080/"
        },
        "id": "RWYFPwu2KJTI",
        "outputId": "40e5a05e-926d-4bd1-b68d-e1cc18cb720d"
      },
      "outputs": [
        {
          "output_type": "stream",
          "name": "stdout",
          "text": [
            "2025-05-23 07:01:34 - INFO - --- System Performance Monitor Started (SIMULATED DATA) ---\n"
          ]
        },
        {
          "output_type": "stream",
          "name": "stderr",
          "text": [
            "INFO:SystemMonitor:--- System Performance Monitor Started (SIMULATED DATA) ---\n"
          ]
        },
        {
          "output_type": "stream",
          "name": "stdout",
          "text": [
            "2025-05-23 07:01:34 - INFO - Logging data to console.\n"
          ]
        },
        {
          "output_type": "stream",
          "name": "stderr",
          "text": [
            "INFO:SystemMonitor:Logging data to console.\n"
          ]
        },
        {
          "output_type": "stream",
          "name": "stdout",
          "text": [
            "2025-05-23 07:01:34 - INFO - Logging interval: 5 seconds\n"
          ]
        },
        {
          "output_type": "stream",
          "name": "stderr",
          "text": [
            "INFO:SystemMonitor:Logging interval: 5 seconds\n"
          ]
        },
        {
          "output_type": "stream",
          "name": "stdout",
          "text": [
            "2025-05-23 07:01:34 - INFO - Press Ctrl+C to stop.\n"
          ]
        },
        {
          "output_type": "stream",
          "name": "stderr",
          "text": [
            "INFO:SystemMonitor:Press Ctrl+C to stop.\n"
          ]
        },
        {
          "output_type": "stream",
          "name": "stdout",
          "text": [
            "2025-05-23 07:01:34 - WARNING - NOTE: This script is using SIMULATED data as 'psutil' module is not available.\n"
          ]
        },
        {
          "output_type": "stream",
          "name": "stderr",
          "text": [
            "WARNING:SystemMonitor:NOTE: This script is using SIMULATED data as 'psutil' module is not available.\n"
          ]
        },
        {
          "output_type": "stream",
          "name": "stdout",
          "text": [
            "2025-05-23 07:01:34 - WARNING - For actual system monitoring, please run in an environment with 'psutil' installed.\n"
          ]
        },
        {
          "output_type": "stream",
          "name": "stderr",
          "text": [
            "WARNING:SystemMonitor:For actual system monitoring, please run in an environment with 'psutil' installed.\n"
          ]
        },
        {
          "output_type": "stream",
          "name": "stdout",
          "text": [
            "2025-05-23 07:01:34 - INFO - CPU Usage: 21.1% | Memory Usage: 23.2% (1901.58 MB Used / 8192.00 MB Total)\n"
          ]
        },
        {
          "output_type": "stream",
          "name": "stderr",
          "text": [
            "INFO:SystemMonitor:CPU Usage: 21.1% | Memory Usage: 23.2% (1901.58 MB Used / 8192.00 MB Total)\n"
          ]
        },
        {
          "output_type": "stream",
          "name": "stdout",
          "text": [
            "2025-05-23 07:01:39 - INFO - CPU Usage: 23.1% | Memory Usage: 22.4% (1836.42 MB Used / 8192.00 MB Total)\n"
          ]
        },
        {
          "output_type": "stream",
          "name": "stderr",
          "text": [
            "INFO:SystemMonitor:CPU Usage: 23.1% | Memory Usage: 22.4% (1836.42 MB Used / 8192.00 MB Total)\n"
          ]
        },
        {
          "output_type": "stream",
          "name": "stdout",
          "text": [
            "2025-05-23 07:01:44 - INFO - CPU Usage: 19.8% | Memory Usage: 21.3% (1747.52 MB Used / 8192.00 MB Total)\n"
          ]
        },
        {
          "output_type": "stream",
          "name": "stderr",
          "text": [
            "INFO:SystemMonitor:CPU Usage: 19.8% | Memory Usage: 21.3% (1747.52 MB Used / 8192.00 MB Total)\n"
          ]
        },
        {
          "output_type": "stream",
          "name": "stdout",
          "text": [
            "2025-05-23 07:01:49 - INFO - CPU Usage: 23.8% | Memory Usage: 19.8% (1618.46 MB Used / 8192.00 MB Total)\n"
          ]
        },
        {
          "output_type": "stream",
          "name": "stderr",
          "text": [
            "INFO:SystemMonitor:CPU Usage: 23.8% | Memory Usage: 19.8% (1618.46 MB Used / 8192.00 MB Total)\n"
          ]
        },
        {
          "output_type": "stream",
          "name": "stdout",
          "text": [
            "2025-05-23 07:01:54 - INFO - CPU Usage: 28.0% | Memory Usage: 19.8% (1620.51 MB Used / 8192.00 MB Total)\n"
          ]
        },
        {
          "output_type": "stream",
          "name": "stderr",
          "text": [
            "INFO:SystemMonitor:CPU Usage: 28.0% | Memory Usage: 19.8% (1620.51 MB Used / 8192.00 MB Total)\n"
          ]
        },
        {
          "output_type": "stream",
          "name": "stdout",
          "text": [
            "2025-05-23 07:01:59 - INFO - CPU Usage: 24.4% | Memory Usage: 19.8% (1623.69 MB Used / 8192.00 MB Total)\n"
          ]
        },
        {
          "output_type": "stream",
          "name": "stderr",
          "text": [
            "INFO:SystemMonitor:CPU Usage: 24.4% | Memory Usage: 19.8% (1623.69 MB Used / 8192.00 MB Total)\n"
          ]
        },
        {
          "output_type": "stream",
          "name": "stdout",
          "text": [
            "2025-05-23 07:02:04 - INFO - CPU Usage: 23.1% | Memory Usage: 21.6% (1771.39 MB Used / 8192.00 MB Total)\n"
          ]
        },
        {
          "output_type": "stream",
          "name": "stderr",
          "text": [
            "INFO:SystemMonitor:CPU Usage: 23.1% | Memory Usage: 21.6% (1771.39 MB Used / 8192.00 MB Total)\n"
          ]
        },
        {
          "output_type": "stream",
          "name": "stdout",
          "text": [
            "2025-05-23 07:02:05 - INFO - --- System Performance Monitor Stopping (Ctrl+C received) ---\n"
          ]
        },
        {
          "output_type": "stream",
          "name": "stderr",
          "text": [
            "INFO:SystemMonitor:--- System Performance Monitor Stopping (Ctrl+C received) ---\n"
          ]
        },
        {
          "output_type": "stream",
          "name": "stdout",
          "text": [
            "System Performance Monitor stopped.\n"
          ]
        }
      ],
      "source": [
        "# import psutil  # For fetching system stats - This line is commented out as psutil is not available in this environment.\n",
        "import time    # For pausing execution\n",
        "import logging # For logging data\n",
        "import sys     # To enable console logging\n",
        "from datetime import datetime # Used implicitly by logging\n",
        "import random # For generating dummy data\n",
        "\n",
        "# --- Configuration ---\n",
        "# LOG_FILENAME = 'system_performance.log' # File logging is disabled in this version\n",
        "LOG_INTERVAL_SECONDS = 5  # How often to log data (in seconds)\n",
        "LOG_LEVEL = logging.INFO   # Logging level (INFO, DEBUG, WARNING, ERROR, CRITICAL)\n",
        "LOG_FORMAT = '%(asctime)s - %(levelname)s - %(message)s' # Format for log messages\n",
        "DATE_FORMAT = '%Y-%m-%d %H:%M:%S' # Format for timestamps in logs\n",
        "\n",
        "# --- Setup Logging ---\n",
        "# Configure the logger to write to the console\n",
        "logger = logging.getLogger('SystemMonitor')\n",
        "logger.setLevel(LOG_LEVEL) # Set the minimum level of messages to handle\n",
        "\n",
        "# Prevent adding multiple handlers if the script is re-run in some environments\n",
        "if not logger.handlers:\n",
        "    # Console Handler - writes logs to the standard output (terminal)\n",
        "    console_handler = logging.StreamHandler(sys.stdout)\n",
        "    console_handler.setLevel(LOG_LEVEL)\n",
        "    console_formatter = logging.Formatter(LOG_FORMAT, datefmt=DATE_FORMAT)\n",
        "    console_handler.setFormatter(console_formatter)\n",
        "    logger.addHandler(console_handler)\n",
        "\n",
        "# --- DUMMY DATA GENERATION (psutil replacement for sandbox environments) ---\n",
        "# In a real environment, you would install and use the 'psutil' library.\n",
        "# These functions simulate the data psutil would provide.\n",
        "\n",
        "_dummy_cpu_value = 20.0\n",
        "_dummy_mem_used_gb = 2.0\n",
        "_dummy_mem_total_gb = 8.0\n",
        "\n",
        "def get_simulated_cpu_percent():\n",
        "    \"\"\"Simulates CPU usage percentage.\"\"\"\n",
        "    global _dummy_cpu_value\n",
        "    # Simulate CPU usage fluctuating somewhat realistically\n",
        "    change = random.uniform(-5.0, 5.0)\n",
        "    _dummy_cpu_value += change\n",
        "    _dummy_cpu_value = max(0.0, min(100.0, _dummy_cpu_value)) # Clamp between 0 and 100\n",
        "    return round(_dummy_cpu_value, 1)\n",
        "\n",
        "def get_simulated_virtual_memory():\n",
        "    \"\"\"Simulates virtual memory usage statistics.\"\"\"\n",
        "    global _dummy_mem_used_gb, _dummy_mem_total_gb\n",
        "    # Simulate memory usage fluctuating\n",
        "    change_gb = random.uniform(-0.2, 0.2)\n",
        "    _dummy_mem_used_gb += change_gb\n",
        "    _dummy_mem_used_gb = max(0.5, min(_dummy_mem_total_gb * 0.95, _dummy_mem_used_gb)) # Clamp\n",
        "\n",
        "    percent_used = (_dummy_mem_used_gb / _dummy_mem_total_gb) * 100\n",
        "    used_bytes = _dummy_mem_used_gb * (1024**3)\n",
        "    total_bytes = _dummy_mem_total_gb * (1024**3)\n",
        "\n",
        "    # Create a simple object that mimics psutil's named tuple for virtual_memory\n",
        "    class SimulatedMemoryInfo:\n",
        "        def __init__(self, percent, used_bytes, total_bytes):\n",
        "            self.percent = round(percent, 1)\n",
        "            self.used = int(used_bytes)    # psutil returns bytes\n",
        "            self.total = int(total_bytes)  # psutil returns bytes\n",
        "\n",
        "    return SimulatedMemoryInfo(percent=percent_used, used_bytes=used_bytes, total_bytes=total_bytes)\n",
        "\n",
        "# --- Monitoring Function ---\n",
        "def log_system_performance():\n",
        "    \"\"\"\n",
        "    Retrieves current CPU and virtual memory usage (simulated for this environment)\n",
        "    and logs the information using the configured logger.\n",
        "    NOTE: This version uses SIMULATED data because 'psutil' is not available.\n",
        "    For real monitoring, install 'psutil' (pip install psutil) and uncomment\n",
        "    the 'import psutil' line and the psutil calls below.\n",
        "    \"\"\"\n",
        "    try:\n",
        "        # --- SIMULATED DATA ---\n",
        "        # To use real data:\n",
        "        # 1. Make sure 'psutil' is installed (pip install psutil)\n",
        "        # 2. Uncomment 'import psutil' at the top of the file.\n",
        "        # 3. Uncomment the following two lines:\n",
        "        # cpu_usage = psutil.cpu_percent(interval=None)\n",
        "        # memory_info = psutil.virtual_memory()\n",
        "        # 4. Comment out or remove the two lines below that call simulated functions:\n",
        "        cpu_usage = get_simulated_cpu_percent()\n",
        "        memory_info = get_simulated_virtual_memory()\n",
        "        # --- END SIMULATED DATA ---\n",
        "\n",
        "        memory_usage_percent = memory_info.percent\n",
        "        memory_used_mb = memory_info.used / (1024 * 1024) # Convert bytes to Megabytes\n",
        "        memory_total_mb = memory_info.total / (1024 * 1024) # Convert bytes to Megabytes\n",
        "\n",
        "        # Format the log message\n",
        "        log_message = (\n",
        "            f\"CPU Usage: {cpu_usage:.1f}% | \"\n",
        "            f\"Memory Usage: {memory_usage_percent:.1f}% \"\n",
        "            f\"({memory_used_mb:.2f} MB Used / {memory_total_mb:.2f} MB Total)\"\n",
        "        )\n",
        "\n",
        "        # Log the data at INFO level\n",
        "        logger.info(log_message)\n",
        "\n",
        "    # except psutil.Error as e: # This would be used if psutil was active\n",
        "        # logger.error(f\"Error collecting system performance data with psutil: {e}\")\n",
        "    except Exception as e:\n",
        "        # Handle any other unexpected errors during data collection/logging\n",
        "        logger.error(f\"An unexpected error occurred: {e}\", exc_info=True)\n",
        "\n",
        "# --- Main Execution Loop ---\n",
        "if __name__ == \"__main__\":\n",
        "    # This block runs only when the script is executed directly\n",
        "    logger.info(f\"--- System Performance Monitor Started (SIMULATED DATA) ---\")\n",
        "    logger.info(f\"Logging data to console.\")\n",
        "    logger.info(f\"Logging interval: {LOG_INTERVAL_SECONDS} seconds\")\n",
        "    logger.info(\"Press Ctrl+C to stop.\")\n",
        "    logger.warning(\"NOTE: This script is using SIMULATED data as 'psutil' module is not available.\")\n",
        "    logger.warning(\"For actual system monitoring, please run in an environment with 'psutil' installed.\")\n",
        "\n",
        "\n",
        "    try:\n",
        "        # Continuously monitor until interrupted\n",
        "        while True:\n",
        "            log_system_performance() # Collect and log data\n",
        "            time.sleep(LOG_INTERVAL_SECONDS) # Wait for the specified interval\n",
        "\n",
        "    except KeyboardInterrupt:\n",
        "        # Handle graceful shutdown when the user presses Ctrl+C\n",
        "        logger.info(\"--- System Performance Monitor Stopping (Ctrl+C received) ---\")\n",
        "    except Exception as e:\n",
        "        # Log any critical error that might stop the main loop unexpectedly\n",
        "        logger.critical(f\"A critical error occurred in the main loop: {e}\", exc_info=True)\n",
        "    finally:\n",
        "        # Ensure all log messages are written before exiting\n",
        "        logging.shutdown()\n",
        "        print(\"System Performance Monitor stopped.\")"
      ]
    },
    {
      "cell_type": "code",
      "execution_count": null,
      "metadata": {
        "id": "ISXF7hSbSjTj"
      },
      "outputs": [],
      "source": [
        "import time    # For pausing execution\n",
        "import logging # For logging data\n",
        "import sys     # To enable console logging\n",
        "from datetime import datetime # Used implicitly by logging\n",
        "import random # For generating dummy data"
      ]
    },
    {
      "cell_type": "code",
      "execution_count": null,
      "metadata": {
        "id": "TnCiG86OSlUy"
      },
      "outputs": [],
      "source": [
        "import time    # For pausing execution\n",
        "import logging # For logging data\n",
        "import sys     # To enable console logging\n",
        "from datetime import datetime # Used implicitly by logging\n",
        "import random # For generating dummy data"
      ]
    },
    {
      "cell_type": "code",
      "execution_count": null,
      "metadata": {
        "id": "C-H28aGqSnNK"
      },
      "outputs": [],
      "source": [
        "# LOG_FILENAME = 'system_performance.log' # File logging is disabled in this version\n",
        "LOG_INTERVAL_SECONDS = 5  # How often to log data (in seconds)\n",
        "LOG_LEVEL = logging.INFO   # Logging level (INFO, DEBUG, WARNING, ERROR, CRITICAL)\n",
        "LOG_FORMAT = '%(asctime)s - %(levelname)s - %(message)s' # Format for log messages\n",
        "DATE_FORMAT = '%Y-%m-%d %H:%M:%S' # Format for timestamps in logs"
      ]
    },
    {
      "cell_type": "code",
      "execution_count": null,
      "metadata": {
        "id": "Wp3zFieoSppK"
      },
      "outputs": [],
      "source": [
        "# Configure the logger to write to the console\n",
        "logger = logging.getLogger('SystemMonitor')\n",
        "logger.setLevel(LOG_LEVEL) # Set the minimum level of messages to handle\n",
        "\n",
        "# Prevent adding multiple handlers if the script is re-run in some environments\n",
        "if not logger.handlers:\n",
        "    # Console Handler - writes logs to the standard output (terminal)\n",
        "    console_handler = logging.StreamHandler(sys.stdout)\n",
        "    console_handler.setLevel(LOG_LEVEL)\n",
        "    console_formatter = logging.Formatter(LOG_FORMAT, datefmt=DATE_FORMAT)\n",
        "    console_handler.setFormatter(console_formatter)\n",
        "    logger.addHandler(console_handler)"
      ]
    },
    {
      "cell_type": "code",
      "execution_count": null,
      "metadata": {
        "id": "P0euH9yeSsBq"
      },
      "outputs": [],
      "source": [
        "def log_system_performance():\n",
        "    \"\"\"\n",
        "    Retrieves current CPU and virtual memory usage (simulated for this environment)\n",
        "    and logs the information using the configured logger.\n",
        "    NOTE: This version uses SIMULATED data because 'psutil' is not available.\n",
        "    For real monitoring, install 'psutil' (pip install psutil) and uncomment\n",
        "    the 'import psutil' line and the psutil calls below.\n",
        "    \"\"\"\n",
        "    try:\n",
        "        # --- SIMULATED DATA ---\n",
        "        # To use real data:\n",
        "        # 1. Make sure 'psutil' is installed (pip install psutil)\n",
        "        # 2. Uncomment 'import psutil' at the top of the file.\n",
        "        # 3. Uncomment the following two lines:\n",
        "        # cpu_usage = psutil.cpu_percent(interval=None)\n",
        "        # memory_info = psutil.virtual_memory()\n",
        "        # 4. Comment out or remove the two lines below that call simulated functions:\n",
        "        cpu_usage = get_simulated_cpu_percent()\n",
        "        memory_info = get_simulated_virtual_memory()\n",
        "        # --- END SIMULATED DATA ---\n",
        "\n",
        "        memory_usage_percent = memory_info.percent\n",
        "        memory_used_mb = memory_info.used / (1024 * 1024) # Convert bytes to Megabytes\n",
        "        memory_total_mb = memory_info.total / (1024 * 1024) # Convert bytes to Megabytes\n",
        "\n",
        "        # Format the log message\n",
        "        log_message = (\n",
        "            f\"CPU Usage: {cpu_usage:.1f}% | \"\n",
        "            f\"Memory Usage: {memory_usage_percent:.1f}% \"\n",
        "            f\"({memory_used_mb:.2f} MB Used / {memory_total_mb:.2f} MB Total)\"\n",
        "        )\n",
        "\n",
        "        # Log the data at INFO level\n",
        "        logger.info(log_message)\n",
        "\n",
        "    # except psutil.Error as e: # This would be used if psutil was active\n",
        "        # logger.error(f\"Error collecting system performance data with psutil: {e}\")\n",
        "    except Exception as e:\n",
        "        # Handle any other unexpected errors during data collection/logging\n",
        "        logger.error(f\"An unexpected error occurred: {e}\", exc_info=True)"
      ]
    }
  ],
  "metadata": {
    "colab": {
      "provenance": [],
      "include_colab_link": true
    },
    "kernelspec": {
      "display_name": "Python 3",
      "name": "python3"
    }
  },
  "nbformat": 4,
  "nbformat_minor": 0
}